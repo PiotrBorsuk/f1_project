{
 "cells": [
  {
   "cell_type": "markdown",
   "metadata": {},
   "source": []
  },
  {
   "cell_type": "code",
   "execution_count": 1,
   "metadata": {},
   "outputs": [],
   "source": [
    "import requests\n",
    "import pandas as pd"
   ]
  },
  {
   "cell_type": "code",
   "execution_count": 2,
   "metadata": {},
   "outputs": [],
   "source": [
    "def fetch_weather_data(meeting_key: int):\n",
    "    url = f\"https://api.openf1.org/v1/weather?meeting_key={meeting_key}\"\n",
    "\n",
    "    response = requests.get(url)\n",
    "\n",
    "    if response.status_code == 200:\n",
    "        df = pd.DataFrame(response.json())\n",
    "        df['date'] = pd.to_datetime(df['date'])\n",
    "\n",
    "        print(\"Successfully fetched data\")\n",
    "        return df\n",
    "    else:\n",
    "        print(f\"Failed to fetch data. Status code: {response.status_code}\")\n",
    "        print(f\"Response: {response.text}\")"
   ]
  },
  {
   "cell_type": "code",
   "execution_count": 3,
   "metadata": {},
   "outputs": [],
   "source": [
    "def get_meeting_name(meeting_key: int):\n",
    "    url = f\"https://api.openf1.org/v1/meetings?meeting_key={meeting_key}\"\n",
    "\n",
    "    response = requests.get(url)\n",
    "\n",
    "    if response.status_code == 200:\n",
    "        df = pd.DataFrame(response.json())\n",
    "        df = df[['meeting_key','circuit_short_name','meeting_name']]\n",
    "\n",
    "        print(\"Successfully fetched data\")\n",
    "        return df\n",
    "    else:\n",
    "        print(f\"Failed to fetch data. Status code: {response.status_code}\")\n",
    "        print(f\"Response: {response.text}\")"
   ]
  },
  {
   "cell_type": "code",
   "execution_count": 4,
   "metadata": {},
   "outputs": [
    {
     "name": "stdout",
     "output_type": "stream",
     "text": [
      "Successfully fetched data\n"
     ]
    }
   ],
   "source": [
    "meeting_df = get_meeting_name(1242)"
   ]
  },
  {
   "cell_type": "code",
   "execution_count": 5,
   "metadata": {},
   "outputs": [
    {
     "data": {
      "text/html": [
       "<div>\n",
       "<style scoped>\n",
       "    .dataframe tbody tr th:only-of-type {\n",
       "        vertical-align: middle;\n",
       "    }\n",
       "\n",
       "    .dataframe tbody tr th {\n",
       "        vertical-align: top;\n",
       "    }\n",
       "\n",
       "    .dataframe thead th {\n",
       "        text-align: right;\n",
       "    }\n",
       "</style>\n",
       "<table border=\"1\" class=\"dataframe\">\n",
       "  <thead>\n",
       "    <tr style=\"text-align: right;\">\n",
       "      <th></th>\n",
       "      <th>meeting_key</th>\n",
       "      <th>circuit_short_name</th>\n",
       "      <th>meeting_name</th>\n",
       "    </tr>\n",
       "  </thead>\n",
       "  <tbody>\n",
       "    <tr>\n",
       "      <th>0</th>\n",
       "      <td>1242</td>\n",
       "      <td>Spa-Francorchamps</td>\n",
       "      <td>Belgian Grand Prix</td>\n",
       "    </tr>\n",
       "  </tbody>\n",
       "</table>\n",
       "</div>"
      ],
      "text/plain": [
       "   meeting_key circuit_short_name        meeting_name\n",
       "0         1242  Spa-Francorchamps  Belgian Grand Prix"
      ]
     },
     "execution_count": 5,
     "metadata": {},
     "output_type": "execute_result"
    }
   ],
   "source": [
    "meeting_df.head()"
   ]
  },
  {
   "cell_type": "code",
   "execution_count": 6,
   "metadata": {},
   "outputs": [
    {
     "name": "stdout",
     "output_type": "stream",
     "text": [
      "Successfully fetched data\n"
     ]
    }
   ],
   "source": [
    "weather_df = fetch_weather_data(1242)"
   ]
  },
  {
   "cell_type": "code",
   "execution_count": 7,
   "metadata": {},
   "outputs": [
    {
     "data": {
      "text/html": [
       "<div>\n",
       "<style scoped>\n",
       "    .dataframe tbody tr th:only-of-type {\n",
       "        vertical-align: middle;\n",
       "    }\n",
       "\n",
       "    .dataframe tbody tr th {\n",
       "        vertical-align: top;\n",
       "    }\n",
       "\n",
       "    .dataframe thead th {\n",
       "        text-align: right;\n",
       "    }\n",
       "</style>\n",
       "<table border=\"1\" class=\"dataframe\">\n",
       "  <thead>\n",
       "    <tr style=\"text-align: right;\">\n",
       "      <th></th>\n",
       "      <th>meeting_key</th>\n",
       "      <th>session_key</th>\n",
       "      <th>date</th>\n",
       "      <th>air_temperature</th>\n",
       "      <th>humidity</th>\n",
       "      <th>pressure</th>\n",
       "      <th>rainfall</th>\n",
       "      <th>track_temperature</th>\n",
       "      <th>wind_direction</th>\n",
       "      <th>wind_speed</th>\n",
       "    </tr>\n",
       "  </thead>\n",
       "  <tbody>\n",
       "    <tr>\n",
       "      <th>0</th>\n",
       "      <td>1242</td>\n",
       "      <td>9567</td>\n",
       "      <td>2024-07-26 11:15:44.675000+00:00</td>\n",
       "      <td>21.4</td>\n",
       "      <td>62.0</td>\n",
       "      <td>964.6</td>\n",
       "      <td>0</td>\n",
       "      <td>35.7</td>\n",
       "      <td>285</td>\n",
       "      <td>0.6</td>\n",
       "    </tr>\n",
       "    <tr>\n",
       "      <th>1</th>\n",
       "      <td>1242</td>\n",
       "      <td>9567</td>\n",
       "      <td>2024-07-26 11:16:44.685000+00:00</td>\n",
       "      <td>21.4</td>\n",
       "      <td>62.0</td>\n",
       "      <td>964.6</td>\n",
       "      <td>0</td>\n",
       "      <td>35.2</td>\n",
       "      <td>178</td>\n",
       "      <td>0.8</td>\n",
       "    </tr>\n",
       "    <tr>\n",
       "      <th>2</th>\n",
       "      <td>1242</td>\n",
       "      <td>9567</td>\n",
       "      <td>2024-07-26 11:17:44.696000+00:00</td>\n",
       "      <td>21.4</td>\n",
       "      <td>63.0</td>\n",
       "      <td>964.6</td>\n",
       "      <td>0</td>\n",
       "      <td>35.7</td>\n",
       "      <td>206</td>\n",
       "      <td>1.6</td>\n",
       "    </tr>\n",
       "    <tr>\n",
       "      <th>3</th>\n",
       "      <td>1242</td>\n",
       "      <td>9567</td>\n",
       "      <td>2024-07-26 11:18:44.706000+00:00</td>\n",
       "      <td>21.4</td>\n",
       "      <td>64.0</td>\n",
       "      <td>964.7</td>\n",
       "      <td>0</td>\n",
       "      <td>36.0</td>\n",
       "      <td>181</td>\n",
       "      <td>2.4</td>\n",
       "    </tr>\n",
       "    <tr>\n",
       "      <th>4</th>\n",
       "      <td>1242</td>\n",
       "      <td>9567</td>\n",
       "      <td>2024-07-26 11:19:44.708000+00:00</td>\n",
       "      <td>21.5</td>\n",
       "      <td>63.0</td>\n",
       "      <td>964.6</td>\n",
       "      <td>0</td>\n",
       "      <td>36.9</td>\n",
       "      <td>71</td>\n",
       "      <td>1.1</td>\n",
       "    </tr>\n",
       "  </tbody>\n",
       "</table>\n",
       "</div>"
      ],
      "text/plain": [
       "   meeting_key  session_key                             date  air_temperature  \\\n",
       "0         1242         9567 2024-07-26 11:15:44.675000+00:00             21.4   \n",
       "1         1242         9567 2024-07-26 11:16:44.685000+00:00             21.4   \n",
       "2         1242         9567 2024-07-26 11:17:44.696000+00:00             21.4   \n",
       "3         1242         9567 2024-07-26 11:18:44.706000+00:00             21.4   \n",
       "4         1242         9567 2024-07-26 11:19:44.708000+00:00             21.5   \n",
       "\n",
       "   humidity  pressure  rainfall  track_temperature  wind_direction  wind_speed  \n",
       "0      62.0     964.6         0               35.7             285         0.6  \n",
       "1      62.0     964.6         0               35.2             178         0.8  \n",
       "2      63.0     964.6         0               35.7             206         1.6  \n",
       "3      64.0     964.7         0               36.0             181         2.4  \n",
       "4      63.0     964.6         0               36.9              71         1.1  "
      ]
     },
     "execution_count": 7,
     "metadata": {},
     "output_type": "execute_result"
    }
   ],
   "source": [
    "weather_df.head()"
   ]
  },
  {
   "cell_type": "code",
   "execution_count": 8,
   "metadata": {},
   "outputs": [],
   "source": [
    "df = pd.merge(weather_df, meeting_df, on='meeting_key')"
   ]
  },
  {
   "cell_type": "code",
   "execution_count": 9,
   "metadata": {},
   "outputs": [],
   "source": [
    "df.to_csv(\"tests_data/weather.csv\")"
   ]
  }
 ],
 "metadata": {
  "kernelspec": {
   "display_name": ".venv",
   "language": "python",
   "name": "python3"
  },
  "language_info": {
   "codemirror_mode": {
    "name": "ipython",
    "version": 3
   },
   "file_extension": ".py",
   "mimetype": "text/x-python",
   "name": "python",
   "nbconvert_exporter": "python",
   "pygments_lexer": "ipython3",
   "version": "3.11.6"
  }
 },
 "nbformat": 4,
 "nbformat_minor": 2
}
