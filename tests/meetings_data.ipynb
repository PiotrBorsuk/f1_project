{
 "cells": [
  {
   "cell_type": "code",
   "execution_count": 12,
   "metadata": {},
   "outputs": [],
   "source": [
    "import pandas as pd\n",
    "import requests\n",
    "from datetime import datetime "
   ]
  },
  {
   "cell_type": "code",
   "execution_count": 6,
   "metadata": {},
   "outputs": [
    {
     "name": "stdout",
     "output_type": "stream",
     "text": [
      "Successfully fetched data:\n"
     ]
    }
   ],
   "source": [
    "url = \"https://api.openf1.org/v1/meetings\"\n",
    "\n",
    "response = requests.get(url)\n",
    "\n",
    "if response.status_code == 200:\n",
    "    meetings_df = pd.DataFrame(response.json())\n",
    "    print(\"Successfully fetched data:\")\n",
    "else:\n",
    "    print(f\"Failed to fetch data. Status code: {response.status_code}\")\n",
    "    print(f\"Response: {response.text}\")"
   ]
  },
  {
   "cell_type": "code",
   "execution_count": 14,
   "metadata": {},
   "outputs": [
    {
     "data": {
      "text/html": [
       "<div>\n",
       "<style scoped>\n",
       "    .dataframe tbody tr th:only-of-type {\n",
       "        vertical-align: middle;\n",
       "    }\n",
       "\n",
       "    .dataframe tbody tr th {\n",
       "        vertical-align: top;\n",
       "    }\n",
       "\n",
       "    .dataframe thead th {\n",
       "        text-align: right;\n",
       "    }\n",
       "</style>\n",
       "<table border=\"1\" class=\"dataframe\">\n",
       "  <thead>\n",
       "    <tr style=\"text-align: right;\">\n",
       "      <th></th>\n",
       "      <th>meeting_name</th>\n",
       "      <th>meeting_official_name</th>\n",
       "      <th>location</th>\n",
       "      <th>country_key</th>\n",
       "      <th>country_code</th>\n",
       "      <th>country_name</th>\n",
       "      <th>circuit_key</th>\n",
       "      <th>circuit_short_name</th>\n",
       "      <th>date_start</th>\n",
       "      <th>gmt_offset</th>\n",
       "      <th>meeting_key</th>\n",
       "      <th>year</th>\n",
       "      <th>meeting_code</th>\n",
       "    </tr>\n",
       "  </thead>\n",
       "  <tbody>\n",
       "    <tr>\n",
       "      <th>0</th>\n",
       "      <td>Pre-Season Testing</td>\n",
       "      <td>FORMULA 1 ARAMCO PRE-SEASON TESTING 2023</td>\n",
       "      <td>Sakhir</td>\n",
       "      <td>36</td>\n",
       "      <td>BRN</td>\n",
       "      <td>Bahrain</td>\n",
       "      <td>63</td>\n",
       "      <td>Sakhir</td>\n",
       "      <td>2023-02-23 07:00:00+00:00</td>\n",
       "      <td>03:00:00</td>\n",
       "      <td>1140</td>\n",
       "      <td>2023</td>\n",
       "      <td>NaN</td>\n",
       "    </tr>\n",
       "    <tr>\n",
       "      <th>1</th>\n",
       "      <td>Bahrain Grand Prix</td>\n",
       "      <td>FORMULA 1 GULF AIR BAHRAIN GRAND PRIX 2023</td>\n",
       "      <td>Sakhir</td>\n",
       "      <td>36</td>\n",
       "      <td>BRN</td>\n",
       "      <td>Bahrain</td>\n",
       "      <td>63</td>\n",
       "      <td>Sakhir</td>\n",
       "      <td>2023-03-03 11:30:00+00:00</td>\n",
       "      <td>03:00:00</td>\n",
       "      <td>1141</td>\n",
       "      <td>2023</td>\n",
       "      <td>NaN</td>\n",
       "    </tr>\n",
       "    <tr>\n",
       "      <th>2</th>\n",
       "      <td>Saudi Arabian Grand Prix</td>\n",
       "      <td>FORMULA 1 STC SAUDI ARABIAN GRAND PRIX 2023</td>\n",
       "      <td>Jeddah</td>\n",
       "      <td>153</td>\n",
       "      <td>KSA</td>\n",
       "      <td>Saudi Arabia</td>\n",
       "      <td>149</td>\n",
       "      <td>Jeddah</td>\n",
       "      <td>2023-03-17 13:30:00+00:00</td>\n",
       "      <td>03:00:00</td>\n",
       "      <td>1142</td>\n",
       "      <td>2023</td>\n",
       "      <td>NaN</td>\n",
       "    </tr>\n",
       "    <tr>\n",
       "      <th>3</th>\n",
       "      <td>Australian Grand Prix</td>\n",
       "      <td>FORMULA 1 ROLEX AUSTRALIAN GRAND PRIX 2023</td>\n",
       "      <td>Melbourne</td>\n",
       "      <td>5</td>\n",
       "      <td>AUS</td>\n",
       "      <td>Australia</td>\n",
       "      <td>10</td>\n",
       "      <td>Melbourne</td>\n",
       "      <td>2023-03-31 01:30:00+00:00</td>\n",
       "      <td>11:00:00</td>\n",
       "      <td>1143</td>\n",
       "      <td>2023</td>\n",
       "      <td>NaN</td>\n",
       "    </tr>\n",
       "    <tr>\n",
       "      <th>4</th>\n",
       "      <td>Azerbaijan Grand Prix</td>\n",
       "      <td>FORMULA 1 AZERBAIJAN GRAND PRIX 2023</td>\n",
       "      <td>Baku</td>\n",
       "      <td>30</td>\n",
       "      <td>AZE</td>\n",
       "      <td>Azerbaijan</td>\n",
       "      <td>144</td>\n",
       "      <td>Baku</td>\n",
       "      <td>2023-04-28 09:30:00+00:00</td>\n",
       "      <td>04:00:00</td>\n",
       "      <td>1207</td>\n",
       "      <td>2023</td>\n",
       "      <td>NaN</td>\n",
       "    </tr>\n",
       "  </tbody>\n",
       "</table>\n",
       "</div>"
      ],
      "text/plain": [
       "               meeting_name                        meeting_official_name  \\\n",
       "0        Pre-Season Testing     FORMULA 1 ARAMCO PRE-SEASON TESTING 2023   \n",
       "1        Bahrain Grand Prix   FORMULA 1 GULF AIR BAHRAIN GRAND PRIX 2023   \n",
       "2  Saudi Arabian Grand Prix  FORMULA 1 STC SAUDI ARABIAN GRAND PRIX 2023   \n",
       "3     Australian Grand Prix   FORMULA 1 ROLEX AUSTRALIAN GRAND PRIX 2023   \n",
       "4     Azerbaijan Grand Prix         FORMULA 1 AZERBAIJAN GRAND PRIX 2023   \n",
       "\n",
       "    location  country_key country_code  country_name  circuit_key  \\\n",
       "0     Sakhir           36          BRN       Bahrain           63   \n",
       "1     Sakhir           36          BRN       Bahrain           63   \n",
       "2     Jeddah          153          KSA  Saudi Arabia          149   \n",
       "3  Melbourne            5          AUS     Australia           10   \n",
       "4       Baku           30          AZE    Azerbaijan          144   \n",
       "\n",
       "  circuit_short_name                date_start gmt_offset  meeting_key  year  \\\n",
       "0             Sakhir 2023-02-23 07:00:00+00:00   03:00:00         1140  2023   \n",
       "1             Sakhir 2023-03-03 11:30:00+00:00   03:00:00         1141  2023   \n",
       "2             Jeddah 2023-03-17 13:30:00+00:00   03:00:00         1142  2023   \n",
       "3          Melbourne 2023-03-31 01:30:00+00:00   11:00:00         1143  2023   \n",
       "4               Baku 2023-04-28 09:30:00+00:00   04:00:00         1207  2023   \n",
       "\n",
       "  meeting_code  \n",
       "0          NaN  \n",
       "1          NaN  \n",
       "2          NaN  \n",
       "3          NaN  \n",
       "4          NaN  "
      ]
     },
     "execution_count": 14,
     "metadata": {},
     "output_type": "execute_result"
    }
   ],
   "source": [
    "meetings_df.head()"
   ]
  },
  {
   "cell_type": "code",
   "execution_count": 15,
   "metadata": {},
   "outputs": [
    {
     "name": "stdout",
     "output_type": "stream",
     "text": [
      "<class 'pandas.core.frame.DataFrame'>\n",
      "RangeIndex: 37 entries, 0 to 36\n",
      "Data columns (total 13 columns):\n",
      " #   Column                 Non-Null Count  Dtype              \n",
      "---  ------                 --------------  -----              \n",
      " 0   meeting_name           37 non-null     object             \n",
      " 1   meeting_official_name  37 non-null     object             \n",
      " 2   location               37 non-null     object             \n",
      " 3   country_key            37 non-null     int64              \n",
      " 4   country_code           37 non-null     object             \n",
      " 5   country_name           37 non-null     object             \n",
      " 6   circuit_key            37 non-null     int64              \n",
      " 7   circuit_short_name     37 non-null     object             \n",
      " 8   date_start             37 non-null     datetime64[ns, UTC]\n",
      " 9   gmt_offset             37 non-null     object             \n",
      " 10  meeting_key            37 non-null     int64              \n",
      " 11  year                   37 non-null     int64              \n",
      " 12  meeting_code           15 non-null     object             \n",
      "dtypes: datetime64[ns, UTC](1), int64(4), object(8)\n",
      "memory usage: 3.9+ KB\n"
     ]
    }
   ],
   "source": [
    "meetings_df.info()"
   ]
  },
  {
   "cell_type": "code",
   "execution_count": 13,
   "metadata": {},
   "outputs": [],
   "source": [
    "meetings_df['date_start'] = pd.to_datetime(meetings_df['date_start'])\n"
   ]
  },
  {
   "cell_type": "code",
   "execution_count": 18,
   "metadata": {},
   "outputs": [],
   "source": [
    "meetings_df.to_csv(r\"tests_data\\meetings_data.csv\", index=False)"
   ]
  }
 ],
 "metadata": {
  "kernelspec": {
   "display_name": ".venv",
   "language": "python",
   "name": "python3"
  },
  "language_info": {
   "codemirror_mode": {
    "name": "ipython",
    "version": 3
   },
   "file_extension": ".py",
   "mimetype": "text/x-python",
   "name": "python",
   "nbconvert_exporter": "python",
   "pygments_lexer": "ipython3",
   "version": "3.11.6"
  }
 },
 "nbformat": 4,
 "nbformat_minor": 2
}
